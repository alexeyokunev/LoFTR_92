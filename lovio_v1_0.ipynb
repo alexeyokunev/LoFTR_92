{
 "cells": [
  {
   "cell_type": "code",
   "execution_count": null,
   "id": "e657dccf",
   "metadata": {},
   "outputs": [],
   "source": [
    "!python3 -m pip install yacs"
   ]
  },
  {
   "cell_type": "code",
   "execution_count": null,
   "id": "fea68664",
   "metadata": {},
   "outputs": [],
   "source": [
    "#device = 'cpu'"
   ]
  },
  {
   "cell_type": "code",
   "execution_count": 1,
   "id": "ca0774e2",
   "metadata": {},
   "outputs": [
    {
     "data": {
      "text/plain": [
       "6593"
      ]
     },
     "execution_count": 1,
     "metadata": {},
     "output_type": "execute_result"
    }
   ],
   "source": [
    "import os\n",
    "import numpy as np\n",
    "\n",
    "# drone flight data\n",
    "flight_num = 16\n",
    "data_dir = '/home/Documents/Coding/Python/matching/SLAM/data/4'\n",
    "data_dir = '/home/Documents/Coding/Python/matching/SLAM/data/12.10.23/16/frames'\n",
    "data_dir = f'/home/Documents/Coding/Python/matching/SLAM/data/12.10.23/{flight_num}/frames'\n",
    "\n",
    "paths = [os.path.join(data_dir, name) for name in sorted(os.listdir(data_dir)) if '(1)' not in name]\n",
    "\n",
    "frame_ids = [int(os.path.basename(path).split('.')[0]) for path in paths]\n",
    "frame_ids = np.asarray(frame_ids)\n",
    "sorted_ids = np.argsort(frame_ids)\n",
    "paths = [paths[idx] for idx in sorted_ids]\n",
    "\n",
    "len(paths)"
   ]
  },
  {
   "cell_type": "code",
   "execution_count": 2,
   "id": "edae3e20",
   "metadata": {},
   "outputs": [
    {
     "name": "stdout",
     "output_type": "stream",
     "text": [
      "38.79754145108499 fps on cuda\n"
     ]
    }
   ],
   "source": [
    "from lovio import Lovio, Track             \n",
    "from utils import read_pos_data, to_homo\n",
    "\n",
    "from time import time\n",
    "\n",
    "        \n",
    "tic = time()\n",
    "\n",
    "lovio = Lovio(weights=\"./weights//checkpoints_new_data/LoFTR_39.pt\", device='cuda')\n",
    "\n",
    "poses = []\n",
    "\n",
    "## set absolute pressure at ground level at the drone starting position\n",
    "ground_idx = 150\n",
    "pos = read_pos_data( paths[ground_idx], P0=1013.25 )\n",
    "P0 = pos['pressure']\n",
    "\n",
    "# set tracking loop range   \n",
    "#start_id = 3512\n",
    "start_id = 4000#600\n",
    "stop_id = start_id + 1024#4096\n",
    "step = 1\n",
    "\n",
    "\n",
    "# read first frame and meta for the track\n",
    "p_pos = read_pos_data( paths[start_id-1], P0 )\n",
    "\n",
    "# set track starting point\n",
    "time0 = p_pos['timestamp']\n",
    "\n",
    "lat0, lon0, alt0 = p_pos['lat'], p_pos['lon'], 0\n",
    "\n",
    "track = Track(time0, lat0, lon0)\n",
    "\n",
    "# main loop\n",
    "cid = start_id\n",
    "while cid < stop_id:\n",
    "    # read next image and meta\n",
    "    pos = read_pos_data( paths[cid], P0 )\n",
    "    \n",
    "     \n",
    "    # move drone projection from previous frame to current\n",
    "    lovio.match(p_pos['image'], pos['image'])\n",
    "    if lovio.M is not None:\n",
    "        \n",
    "        proj_dpp = to_homo(p_pos['dpp']).dot(lovio.M.T)\n",
    "        proj_dpp = proj_dpp[:2] / proj_dpp[2]\n",
    "        \n",
    "    else:\n",
    "        \n",
    "        proj_dpp = pos['dpp']\n",
    "    \n",
    "    # update drone track with new gain\n",
    "    gain = pos['dpp'] - proj_dpp\n",
    "    track.update( pos['timestamp'], pos['heading'], gain, pos['altitude'] )\n",
    "    \n",
    "    # prepare for the next step\n",
    "    p_pos = pos.copy()\n",
    "    pos['image'] = None\n",
    "    poses.append(pos)\n",
    "    \n",
    "    print(cid, end='\\r')\n",
    "    cid += step\n",
    "    \n",
    "print((stop_id-start_id)/(time()-tic), 'fps on', lovio.device)    "
   ]
  },
  {
   "cell_type": "code",
   "execution_count": null,
   "id": "f716b583",
   "metadata": {},
   "outputs": [],
   "source": [
    "'SIFT 17.5 fps on cpu'\n",
    "'LoFTR 39.5 fps on cuda'\n",
    "'LoFTR 15.5 fps on cpu'"
   ]
  },
  {
   "cell_type": "markdown",
   "id": "0963b57c",
   "metadata": {},
   "source": [
    "## track visualization"
   ]
  },
  {
   "cell_type": "code",
   "execution_count": null,
   "id": "808d3101",
   "metadata": {},
   "outputs": [],
   "source": [
    "from matplotlib import pyplot as plt\n",
    "import pickle\n",
    "\n",
    "start, window = 0, len(poses)\n",
    "rng = range(start, start + window)\n",
    "\n",
    "glats = np.asarray([pos['lat'] for pos in poses])\n",
    "glons = np.asarray([pos['lon'] for pos in poses])\n",
    "dlats, dlons, _ = track.gps.T\n",
    "plt.plot(dlats[rng], dlons[rng])\n",
    "plt.plot(glats[rng], glons[rng])\n",
    "plt.legend(['vio', 'gps'])\n",
    "plt.show()\n",
    "\n",
    "gvels = np.asarray([pos['vels'] for pos in poses])\n",
    "vn, ve = track.vels.T\n",
    "vx, vy = gvels.T[:2]\n",
    "plt.scatter(vn[rng], ve[rng])\n",
    "plt.scatter(vy[rng], vx[rng])\n",
    "plt.legend(['vio', 'gps'])\n",
    "plt.show()\n",
    "\n",
    "data = dict(\n",
    "            glats=glats,\n",
    "            glons=glons,\n",
    "            dlats=dlats,\n",
    "            dlons=dlons,\n",
    "           )\n",
    "\n",
    "with open(f'res/{flight_num}.pickle', 'wb') as f:\n",
    "    pickle.dump(data, f)"
   ]
  }
 ],
 "metadata": {
  "kernelspec": {
   "display_name": "Python 3 (ipykernel)",
   "language": "python",
   "name": "python3"
  },
  "language_info": {
   "codemirror_mode": {
    "name": "ipython",
    "version": 3
   },
   "file_extension": ".py",
   "mimetype": "text/x-python",
   "name": "python",
   "nbconvert_exporter": "python",
   "pygments_lexer": "ipython3",
   "version": "3.8.10"
  }
 },
 "nbformat": 4,
 "nbformat_minor": 5
}
